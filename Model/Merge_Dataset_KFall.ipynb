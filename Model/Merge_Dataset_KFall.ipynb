{
  "cells": [
    {
      "cell_type": "code",
      "execution_count": null,
      "metadata": {
        "id": "LjCij6i7RBCk"
      },
      "outputs": [],
      "source": [
        "import math\n",
        "import os\n",
        "import shutil\n",
        "\n",
        "import dask.dataframe as dd\n",
        "import numpy as np\n",
        "import pandas as pd\n",
        "from google.colab import drive\n",
        "from matplotlib import pyplot\n",
        "from numpy import pi\n",
        "\n",
        "path = os.getcwd()+\"/drive/MyDrive/\""
      ]
    },
    {
      "cell_type": "markdown",
      "metadata": {
        "id": "ZtrM_tE2Fn0L"
      },
      "source": [
        "### PREPROCESSING DATA"
      ]
    },
    {
      "cell_type": "code",
      "execution_count": null,
      "metadata": {
        "colab": {
          "base_uri": "https://localhost:8080/"
        },
        "id": "Xahvxc-kDtYy",
        "outputId": "da312347-66a3-4b4b-e03b-4aecff23aee3"
      },
      "outputs": [],
      "source": [
        "drive.mount('/content/drive')"
      ]
    },
    {
      "cell_type": "code",
      "execution_count": null,
      "metadata": {
        "colab": {
          "base_uri": "https://localhost:8080/",
          "height": 397
        },
        "id": "ch3J2q9Cb4iJ",
        "outputId": "ced3492e-4813-4a22-fa9c-01a23e095b95"
      },
      "outputs": [],
      "source": [
        "oldDirectory = path+\"KFall/sensor_data\"\n",
        "newDirectory = path+\"Processed/raw_data\"\n",
        "\n",
        "fileNames = os.listdir(oldDirectory)\n",
        "\n",
        "for fn in fileNames:\n",
        "    oldDir = os.path.join(oldDirectory, fn)\n",
        "    newDir = os.path.join(newDirectory, fn)\n",
        "    shutil.copytree(oldDir, newDir)\n",
        "\n",
        "print(len(fileNames))"
      ]
    },
    {
      "cell_type": "code",
      "execution_count": null,
      "metadata": {
        "colab": {
          "base_uri": "https://localhost:8080/"
        },
        "id": "j4BuC4O2d55E",
        "outputId": "1722dcda-03fc-48c7-ff96-76ee0dd1f0c4"
      },
      "outputs": [],
      "source": [
        "directory = path+\"KFall/label_data\"\n",
        "rawDataDirectory = path+\"Processed/raw_data\"\n",
        "newDirInput = path+\"Processed/input_label_data\"\n",
        "\n",
        "files = os.listdir(directory)\n",
        "\n",
        "for f in files:\n",
        "    subject = f.split()[0][:4]\n",
        "    subject_id = f.split()[0][2:4]\n",
        "    if int(subject_id) < 20:\n",
        "        data = pd.read_excel(os.path.join(directory, f),\n",
        "                             skiprows=1, header=None)\n",
        "        rawDirectory = rawDataDirectory + \"/\" + subject + \"/\"\n",
        "        for i in range(len(data)):\n",
        "            activity = str(data.loc[i, 0])\n",
        "            if activity[0] != 'nan':\n",
        "                activity_id = activity[5:7]\n",
        "            trial = data.loc[i, 2]\n",
        "            frame_onset = data.loc[i, 3]\n",
        "            frame_impact = data.loc[i, 4]\n",
        "            filename = \"S\"+subject_id+\"T\"+activity_id+\"R0\"+str(trial)+\".csv\"\n",
        "            selected_files = os.listdir(rawDirectory)\n",
        "            for file in selected_files:\n",
        "                act_id = int(file.split('.')[0][4:6])\n",
        "                tr_id = int(file.split('.')[0][-2:])\n",
        "                exist = os.path.exists(os.path.join(newDirInput, file))\n",
        "                if int(act_id) > 19 and int(act_id) < 35:\n",
        "                    df = pd.read_csv(os.path.join(rawDirectory, file))\n",
        "                    df[\"Condition\"] = 0\n",
        "                    if file == filename:\n",
        "                        for ind in range(len(df)):\n",
        "                            if ind <= frame_onset:\n",
        "                                df.loc[ind, \"Condition\"] = 0\n",
        "                            elif ind > frame_onset and ind < frame_impact:\n",
        "                                df.loc[ind, \"Condition\"] = 1\n",
        "                            elif ind >= frame_impact:\n",
        "                                df.loc[ind, \"Condition\"] = 2\n",
        "\n",
        "                        df.to_csv(os.path.join(newDirInput, file),\n",
        "                                  sep=\",\", header=False, index=False)\n",
        "                        print(file, \"saved to\", newDirInput, \"!\")\n",
        "\n",
        "                elif int(act_id) == 17 and exist is False:\n",
        "                    print(file)\n",
        "                    df = pd.read_csv(os.path.join(rawDirectory, file))\n",
        "                    df[\"Condition\"] = 2\n",
        "\n",
        "    df.to_csv(os.path.join(newDirInput, file),\n",
        "              sep=\",\", header=False, index=False)\n",
        "    print(file, \"saved to\", newDirInput, \"!\")"
      ]
    },
    {
      "cell_type": "code",
      "execution_count": null,
      "metadata": {
        "colab": {
          "base_uri": "https://localhost:8080/"
        },
        "id": "0Ry7idLjqDGM",
        "outputId": "8ecee171-8239-4efe-96ee-821c35d2874a"
      },
      "outputs": [],
      "source": [
        "directory = path+\"Processed/input_label_data\"\n",
        "new_directory = os.getcwd()+\"/drive/MyDrive/Processed/processed_input_label_data/\"\n",
        "\n",
        "raw_files = os.listdir(directory)\n",
        "\n",
        "for f in raw_files:\n",
        "    dataframe = pd.read_csv(os.path.join(directory, f),\n",
        "                            header=None, usecols=[0, 2, 3, 4, 5, 6, 7, 11])\n",
        "\n",
        "    dataframe[\"C1\"] = 0.0\n",
        "    dataframe[\"C2\"] = 0.0\n",
        "    dataframe[\"Acc_roll\"] = 0.0\n",
        "    dataframe[\"Acc_pitch\"] = 0.0\n",
        "    dataframe[\"Gyro_roll\"] = 0.0\n",
        "    dataframe[\"Gyro_pitch\"] = 0.0\n",
        "    dataframe[\"Roll\"] = 0.0\n",
        "    dataframe[\"Pitch\"] = 0.0\n",
        "    dataframe[\"Yaw\"] = 0.0\n",
        "\n",
        "    dataframe.to_csv(os.path.join(new_directory, f),\n",
        "                     sep=\",\", header=False, index=False)\n",
        "    print(os.path.join(new_directory, f), ' saved!')"
      ]
    },
    {
      "cell_type": "code",
      "execution_count": null,
      "metadata": {
        "colab": {
          "base_uri": "https://localhost:8080/"
        },
        "id": "aOc4iAfjvxIb",
        "outputId": "9ab7a679-affa-4394-a534-50cdaa945fc5"
      },
      "outputs": [],
      "source": [
        "directory = os.getcwd()+\"/drive/MyDrive/Processed/processed_input_label_data/\"\n",
        "\n",
        "raw_files = os.listdir(directory)\n",
        "\n",
        "n_freq = 100\n",
        "d_time = 1/n_freq\n",
        "\n",
        "rad_to_deg = 180/np.pi\n",
        "\n",
        "const_time = 2\n",
        "comp_const = const_time/(const_time+d_time)\n",
        "\n",
        "for f in raw_files:\n",
        "    dataframe = pd.read_csv(os.path.join(directory, f), header=None, names=[\n",
        "                            \"Timestamp\", \"Ax\", \"Ay\", \"Az\", \"Gx\", \"Gy\", \"Gz\", \"Condition\", \"C1\", \"C2\", \"Acc_roll\", \"Acc_pitch\", \"Gyro_roll\", \"Gyro_pitch\", \"Roll\", \"Pitch\", \"Yaw\"])\n",
        "\n",
        "    for ind in range(len(dataframe)):\n",
        "        d_time = 0\n",
        "        if ind == 0:\n",
        "            d_time = dataframe.loc[ind, \"Timestamp\"] - 0\n",
        "        else:\n",
        "            d_time = float(\n",
        "                dataframe.loc[ind, \"Timestamp\"] - dataframe.loc[(ind-1), \"Timestamp\"])\n",
        "\n",
        "        dataframe.loc[ind, \"C1\"] = np.sqrt(\n",
        "            np.power(dataframe.loc[ind, \"Ax\"], 2) + np.power(dataframe.loc[ind, \"Az\"], 2))\n",
        "\n",
        "        dataframe.loc[ind, \"C2\"] = np.sqrt(np.power(dataframe.loc[ind, \"Ax\"], 2) + np.power(\n",
        "            dataframe.loc[ind, \"Ay\"], 2) + np.power(dataframe.loc[ind, \"Az\"], 2))\n",
        "        dataframe.loc[ind, \"Acc_roll\"] = math.atan2(\n",
        "            - (dataframe.loc[ind, \"Az\"]), dataframe.loc[ind, \"Ay\"])*rad_to_deg\n",
        "        dataframe.loc[ind, \"Acc_pitch\"] = math.atan2(dataframe.loc[ind, \"Ax\"], (np.sqrt(\n",
        "            np.power(dataframe.loc[ind, \"Az\"], 2) + np.power(dataframe.loc[ind, \"Ay\"], 2))))*rad_to_deg\n",
        "        dataframe.loc[ind, \"Gyro_roll\"] = dataframe.loc[ind,\n",
        "                                                        \"Gyro_roll\"] + (dataframe.loc[ind, \"Gz\"]*d_time)\n",
        "        dataframe.loc[ind, \"Gyro_pitch\"] = dataframe.loc[ind,\n",
        "                                                         \"Gyro_pitch\"] + (dataframe.loc[ind, \"Gx\"]*d_time)\n",
        "        dataframe.loc[ind, \"Roll\"] = dataframe.loc[ind, \"Roll\"] + \\\n",
        "            (dataframe.loc[ind, \"Gz\"]*d_time)*comp_const + \\\n",
        "            dataframe.loc[ind, \"Acc_roll\"]*(1-comp_const)\n",
        "        dataframe.loc[ind, \"Pitch\"] = dataframe.loc[ind, \"Pitch\"] + \\\n",
        "            (dataframe.loc[ind, \"Gx\"]*d_time)*comp_const + \\\n",
        "            dataframe.loc[ind, \"Acc_pitch\"]*(1-comp_const)\n",
        "        dataframe.loc[ind, \"Yaw\"] = float(\n",
        "            dataframe.loc[ind, \"Yaw\"] + (dataframe.loc[ind, \"Gy\"]*d_time))\n",
        "\n",
        "        if dataframe.loc[ind, \"Yaw\"] < 0:\n",
        "            dataframe.loc[ind, \"Yaw\"] = float(dataframe.loc[ind, \"Yaw\"]+360.0)\n",
        "\n",
        "    dataframe.to_csv(os.path.join(directory, f),\n",
        "                     sep=\",\", header=False, index=False)\n",
        "    print(f, ' saved!')"
      ]
    },
    {
      "cell_type": "code",
      "execution_count": null,
      "metadata": {
        "colab": {
          "base_uri": "https://localhost:8080/"
        },
        "id": "ySuZRLCgwXuq",
        "outputId": "92d62148-cebb-43e6-ccab-1a7197de115a"
      },
      "outputs": [],
      "source": [
        "pathfile = path+\"Processed/processed_input_label_data/*csv\"\n",
        "\n",
        "df = dd.read_csv(pathfile, header=None, usecols=[\n",
        "                 0, 1, 2, 3, 4, 5, 6, 7, 8, 13, 14, 15, 16])\n",
        "\n",
        "df.columns = [\"Timestamp\", \"Ax\", \"Ay\", \"Az\", \"Gx\", \"Gy\",\n",
        "              \"Gz\", \"Condition\", \"C1\", \"C2\", \"Roll\", \"Pitch\", \"Yaw\"]\n",
        "\n",
        "new_cols = [\"Timestamp\", \"Ax\", \"Ay\", \"Az\", \"Gx\", \"Gy\",\n",
        "            \"Gz\", \"C1\", \"C2\", \"Roll\", \"Pitch\", \"Yaw\", \"Condition\"]\n",
        "df = df[new_cols]\n",
        "\n",
        "new_directory = path+\"/Processed/\"\n",
        "\n",
        "single_filename = \"single_file_kfalldataset_3labels.csv\"\n",
        "print(path, \" read!\")\n",
        "\n",
        "df.to_csv(os.path.join(new_directory, single_filename),\n",
        "          index=False, single_file=True)\n",
        "\n",
        "print(os.path.join(new_directory, single_filename), \" saved!\")"
      ]
    }
  ],
  "metadata": {
    "colab": {
      "provenance": []
    },
    "kernelspec": {
      "display_name": "Python 3",
      "name": "python3"
    },
    "language_info": {
      "codemirror_mode": {
        "name": "ipython",
        "version": 3
      },
      "file_extension": ".py",
      "mimetype": "text/x-python",
      "name": "python",
      "nbconvert_exporter": "python",
      "pygments_lexer": "ipython3",
      "version": "3.11.4"
    }
  },
  "nbformat": 4,
  "nbformat_minor": 0
}
